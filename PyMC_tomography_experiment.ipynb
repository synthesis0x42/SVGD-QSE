{
  "cells": [
    {
      "cell_type": "markdown",
      "metadata": {
        "id": "view-in-github",
        "colab_type": "text"
      },
      "source": [
        "<a href=\"https://colab.research.google.com/github/synthesis0x42/SVGD-QSE/blob/main/PyMC_tomography_experiment.ipynb\" target=\"_parent\"><img src=\"https://colab.research.google.com/assets/colab-badge.svg\" alt=\"Open In Colab\"/></a>"
      ]
    },
    {
      "cell_type": "code",
      "execution_count": 15,
      "metadata": {
        "colab": {
          "base_uri": "https://localhost:8080/"
        },
        "id": "P5l7YMB029og",
        "outputId": "7cc98e87-4818-4f62-fa2f-306111da5f34"
      },
      "outputs": [
        {
          "output_type": "stream",
          "name": "stdout",
          "text": [
            "Requirement already satisfied: pymc in /usr/local/lib/python3.11/dist-packages (5.20.1)\n",
            "Requirement already satisfied: arviz>=0.13.0 in /usr/local/lib/python3.11/dist-packages (from pymc) (0.20.0)\n",
            "Requirement already satisfied: cachetools>=4.2.1 in /usr/local/lib/python3.11/dist-packages (from pymc) (5.5.2)\n",
            "Requirement already satisfied: cloudpickle in /usr/local/lib/python3.11/dist-packages (from pymc) (3.1.1)\n",
            "Requirement already satisfied: numpy>=1.25.0 in /usr/local/lib/python3.11/dist-packages (from pymc) (1.26.4)\n",
            "Requirement already satisfied: pandas>=0.24.0 in /usr/local/lib/python3.11/dist-packages (from pymc) (2.2.2)\n",
            "Requirement already satisfied: pytensor<2.28,>=2.26.1 in /usr/local/lib/python3.11/dist-packages (from pymc) (2.27.1)\n",
            "Requirement already satisfied: rich>=13.7.1 in /usr/local/lib/python3.11/dist-packages (from pymc) (13.9.4)\n",
            "Requirement already satisfied: scipy>=1.4.1 in /usr/local/lib/python3.11/dist-packages (from pymc) (1.13.1)\n",
            "Requirement already satisfied: threadpoolctl<4.0.0,>=3.1.0 in /usr/local/lib/python3.11/dist-packages (from pymc) (3.5.0)\n",
            "Requirement already satisfied: typing-extensions>=3.7.4 in /usr/local/lib/python3.11/dist-packages (from pymc) (4.12.2)\n",
            "Requirement already satisfied: setuptools>=60.0.0 in /usr/local/lib/python3.11/dist-packages (from arviz>=0.13.0->pymc) (75.1.0)\n",
            "Requirement already satisfied: matplotlib>=3.5 in /usr/local/lib/python3.11/dist-packages (from arviz>=0.13.0->pymc) (3.10.0)\n",
            "Requirement already satisfied: packaging in /usr/local/lib/python3.11/dist-packages (from arviz>=0.13.0->pymc) (24.2)\n",
            "Requirement already satisfied: xarray>=2022.6.0 in /usr/local/lib/python3.11/dist-packages (from arviz>=0.13.0->pymc) (2025.1.2)\n",
            "Requirement already satisfied: h5netcdf>=1.0.2 in /usr/local/lib/python3.11/dist-packages (from arviz>=0.13.0->pymc) (1.5.0)\n",
            "Requirement already satisfied: xarray-einstats>=0.3 in /usr/local/lib/python3.11/dist-packages (from arviz>=0.13.0->pymc) (0.8.0)\n",
            "Requirement already satisfied: python-dateutil>=2.8.2 in /usr/local/lib/python3.11/dist-packages (from pandas>=0.24.0->pymc) (2.8.2)\n",
            "Requirement already satisfied: pytz>=2020.1 in /usr/local/lib/python3.11/dist-packages (from pandas>=0.24.0->pymc) (2025.1)\n",
            "Requirement already satisfied: tzdata>=2022.7 in /usr/local/lib/python3.11/dist-packages (from pandas>=0.24.0->pymc) (2025.1)\n",
            "Requirement already satisfied: filelock>=3.15 in /usr/local/lib/python3.11/dist-packages (from pytensor<2.28,>=2.26.1->pymc) (3.17.0)\n",
            "Requirement already satisfied: etuples in /usr/local/lib/python3.11/dist-packages (from pytensor<2.28,>=2.26.1->pymc) (0.3.9)\n",
            "Requirement already satisfied: logical-unification in /usr/local/lib/python3.11/dist-packages (from pytensor<2.28,>=2.26.1->pymc) (0.4.6)\n",
            "Requirement already satisfied: miniKanren in /usr/local/lib/python3.11/dist-packages (from pytensor<2.28,>=2.26.1->pymc) (1.0.3)\n",
            "Requirement already satisfied: cons in /usr/local/lib/python3.11/dist-packages (from pytensor<2.28,>=2.26.1->pymc) (0.4.6)\n",
            "Requirement already satisfied: markdown-it-py>=2.2.0 in /usr/local/lib/python3.11/dist-packages (from rich>=13.7.1->pymc) (3.0.0)\n",
            "Requirement already satisfied: pygments<3.0.0,>=2.13.0 in /usr/local/lib/python3.11/dist-packages (from rich>=13.7.1->pymc) (2.18.0)\n",
            "Requirement already satisfied: h5py in /usr/local/lib/python3.11/dist-packages (from h5netcdf>=1.0.2->arviz>=0.13.0->pymc) (3.12.1)\n",
            "Requirement already satisfied: mdurl~=0.1 in /usr/local/lib/python3.11/dist-packages (from markdown-it-py>=2.2.0->rich>=13.7.1->pymc) (0.1.2)\n",
            "Requirement already satisfied: contourpy>=1.0.1 in /usr/local/lib/python3.11/dist-packages (from matplotlib>=3.5->arviz>=0.13.0->pymc) (1.3.1)\n",
            "Requirement already satisfied: cycler>=0.10 in /usr/local/lib/python3.11/dist-packages (from matplotlib>=3.5->arviz>=0.13.0->pymc) (0.12.1)\n",
            "Requirement already satisfied: fonttools>=4.22.0 in /usr/local/lib/python3.11/dist-packages (from matplotlib>=3.5->arviz>=0.13.0->pymc) (4.56.0)\n",
            "Requirement already satisfied: kiwisolver>=1.3.1 in /usr/local/lib/python3.11/dist-packages (from matplotlib>=3.5->arviz>=0.13.0->pymc) (1.4.8)\n",
            "Requirement already satisfied: pillow>=8 in /usr/local/lib/python3.11/dist-packages (from matplotlib>=3.5->arviz>=0.13.0->pymc) (11.1.0)\n",
            "Requirement already satisfied: pyparsing>=2.3.1 in /usr/local/lib/python3.11/dist-packages (from matplotlib>=3.5->arviz>=0.13.0->pymc) (3.2.1)\n",
            "Requirement already satisfied: six>=1.5 in /usr/local/lib/python3.11/dist-packages (from python-dateutil>=2.8.2->pandas>=0.24.0->pymc) (1.17.0)\n",
            "Requirement already satisfied: toolz in /usr/local/lib/python3.11/dist-packages (from logical-unification->pytensor<2.28,>=2.26.1->pymc) (0.12.1)\n",
            "Requirement already satisfied: multipledispatch in /usr/local/lib/python3.11/dist-packages (from logical-unification->pytensor<2.28,>=2.26.1->pymc) (1.0.0)\n"
          ]
        }
      ],
      "source": [
        "!pip install pymc"
      ]
    },
    {
      "cell_type": "code",
      "execution_count": 16,
      "metadata": {
        "id": "sZLnlk6V3AlM"
      },
      "outputs": [],
      "source": [
        "import pymc as pm\n",
        "import numpy as np\n",
        "\n",
        "import plotly.graph_objects as go"
      ]
    },
    {
      "cell_type": "code",
      "execution_count": 17,
      "metadata": {
        "id": "TvbIMWfHhi63"
      },
      "outputs": [],
      "source": [
        "sampled_xyz = np.random.uniform(low=-1, high=1, size=3)\n",
        "while(np.sum(sampled_xyz**2)>1):\n",
        "    sampled_xyz = np.random.uniform(low=-1, high=1, size=3)\n",
        "  # Sample one set of biases\n",
        "\n",
        "theta = (1 + sampled_xyz) / 2\n",
        "\n",
        "coin_choice_fixed = np.random.choice([0, 1, 2], size=100, p=np.ones(3) / 3)\n",
        "\n",
        "data = np.random.binomial(n=1, p=theta[coin_choice_fixed])  # n=1 for Bernoulli trials\n",
        "\n",
        "px=sampled_xyz.item(0)\n",
        "py=sampled_xyz.item(1)\n",
        "pz=sampled_xyz.item(2)"
      ]
    },
    {
      "cell_type": "code",
      "execution_count": 18,
      "metadata": {
        "colab": {
          "base_uri": "https://localhost:8080/"
        },
        "id": "lmCSzZxNiuzq",
        "outputId": "15a3ba6a-4714-4ea5-a7d2-78ed3c0f2272"
      },
      "outputs": [
        {
          "output_type": "execute_result",
          "data": {
            "text/plain": [
              "array([-0.119927  , -0.03125352, -0.70657067])"
            ]
          },
          "metadata": {},
          "execution_count": 18
        }
      ],
      "source": [
        "sampled_xyz"
      ]
    },
    {
      "cell_type": "code",
      "source": [
        "coin_choice_fixed"
      ],
      "metadata": {
        "colab": {
          "base_uri": "https://localhost:8080/"
        },
        "id": "xvo96yjPNR_Y",
        "outputId": "b35b0942-dfdc-4efc-add3-44cabb5fb3cd"
      },
      "execution_count": 19,
      "outputs": [
        {
          "output_type": "execute_result",
          "data": {
            "text/plain": [
              "array([2, 0, 2, 2, 1, 1, 0, 0, 2, 0, 0, 0, 0, 2, 1, 2, 1, 0, 0, 2, 0, 0,\n",
              "       1, 0, 0, 1, 0, 0, 2, 1, 2, 2, 2, 1, 0, 2, 2, 0, 1, 2, 2, 0, 2, 1,\n",
              "       1, 2, 2, 1, 0, 0, 0, 0, 2, 1, 0, 0, 2, 2, 2, 0, 0, 1, 1, 0, 2, 1,\n",
              "       2, 0, 1, 0, 1, 1, 0, 1, 1, 1, 0, 1, 0, 1, 2, 2, 0, 0, 0, 0, 1, 2,\n",
              "       1, 0, 2, 2, 0, 2, 1, 1, 0, 2, 2, 1])"
            ]
          },
          "metadata": {},
          "execution_count": 19
        }
      ]
    },
    {
      "cell_type": "code",
      "source": [
        "data"
      ],
      "metadata": {
        "colab": {
          "base_uri": "https://localhost:8080/"
        },
        "id": "znFdU28GP9lT",
        "outputId": "f9e2a54e-0d33-4d59-dcd6-0257225ce534"
      },
      "execution_count": 20,
      "outputs": [
        {
          "output_type": "execute_result",
          "data": {
            "text/plain": [
              "array([0, 0, 0, 0, 0, 0, 0, 1, 0, 1, 0, 1, 0, 1, 1, 0, 1, 1, 1, 0, 0, 1,\n",
              "       1, 0, 1, 1, 1, 0, 1, 1, 1, 0, 0, 1, 1, 0, 0, 1, 1, 0, 1, 0, 0, 0,\n",
              "       0, 1, 0, 1, 1, 0, 0, 0, 0, 0, 0, 0, 0, 1, 0, 1, 1, 1, 1, 0, 0, 0,\n",
              "       0, 0, 0, 1, 1, 0, 0, 1, 1, 1, 0, 1, 1, 0, 0, 0, 0, 0, 0, 0, 1, 0,\n",
              "       0, 1, 0, 0, 1, 0, 1, 1, 1, 1, 0, 0])"
            ]
          },
          "metadata": {},
          "execution_count": 20
        }
      ]
    },
    {
      "cell_type": "code",
      "execution_count": null,
      "metadata": {
        "id": "5LxZ2l28So_x"
      },
      "outputs": [],
      "source": [
        "with pm.Model() as model:\n",
        "    # Prior (Uniform on cube)\n",
        "\n",
        "    xyz = pm.Uniform('xyz', lower=-1, upper=1, shape=3)\n",
        "    # are px py pz not beta distributions?\n",
        "    # Likelihood\n",
        "    const = pm.Potential(\"constraint\",pm.math.switch(pm.math.le(pm.math.sum(xyz**2),1),0,-np.inf))\n",
        "    theta = (1 + xyz) / 2\n",
        "\n",
        "\n",
        "\n",
        "    likelihood = pm.Bernoulli('likelihood', p=theta[coin_choice_fixed], observed=data)\n",
        "\n",
        "\n",
        "    # Inference\n",
        "    approx = pm.fit(method=pm.SVGD(n_particles=160, jitter=1.))\n",
        "    trace = approx.sample(1000)"
      ]
    },
    {
      "cell_type": "code",
      "execution_count": null,
      "metadata": {
        "id": "hKrJlNSBbEhj"
      },
      "outputs": [],
      "source": [
        "# Extract 'xyz' data using arviz\n",
        "posterior = trace.posterior\n",
        "xyz_data = posterior.data_vars['xyz']\n",
        "\n",
        "\n"
      ]
    },
    {
      "cell_type": "code",
      "source": [
        "# Generate prior samples for plotting (10000 samples for better visualization)\n",
        "prior_samples = np.random.uniform(low=-1, high=1, size=(1000, 3))\n",
        "\n",
        "# Visualization (3D Scatterplot with Plotly)\n",
        "fig = go.Figure(data=[\n",
        "    go.Scatter3d(  # Posterior\n",
        "        x=xyz_data[0, :, 0],\n",
        "        y=xyz_data[0, :, 1],\n",
        "        z=xyz_data[0, :, 2],\n",
        "        mode='markers',\n",
        "        marker=dict(size=2, color='blue', opacity=0.25),\n",
        "        name='Posterior'\n",
        "    ),\n",
        "    go.Scatter3d(  # Prior\n",
        "        x=prior_samples[:, 0],\n",
        "        y=prior_samples[:, 1],\n",
        "        z=prior_samples[:, 2],\n",
        "        mode='markers',\n",
        "        marker=dict(size=2, color='orange', opacity=0.25),\n",
        "        name='Prior'\n",
        "    ),\n",
        "    go.Scatter3d(  # True state\n",
        "        x=[sampled_xyz[0]],\n",
        "        y=[sampled_xyz[1]],\n",
        "        z=[sampled_xyz[2]],\n",
        "        mode='markers',\n",
        "        marker=dict(size=15, color='red', symbol='cross'),  # Star symbol for the true state\n",
        "        name='True State'\n",
        "    )\n",
        "])\n",
        "\n",
        "fig.update_layout(\n",
        "    title='Prior, Posterior, and True State',\n",
        "    scene=dict(\n",
        "        xaxis_title='x',\n",
        "        yaxis_title='y',\n",
        "        zaxis_title='z',\n",
        "    )\n",
        ")\n",
        "fig.show()"
      ],
      "metadata": {
        "id": "U_K9suaa7yCk"
      },
      "execution_count": null,
      "outputs": []
    },
    {
      "cell_type": "code",
      "execution_count": null,
      "metadata": {
        "id": "rQe7DYDRib-J"
      },
      "outputs": [],
      "source": [
        "x=xyz_data[0, :, 0],\n",
        "y=xyz_data[0, :, 1],\n",
        "z=xyz_data[0, :, 2]"
      ]
    },
    {
      "cell_type": "code",
      "source": [
        "z = np.mean(z).item(0)\n",
        "y = np.mean(y).item(0)\n",
        "x = np.mean(x).item(0)"
      ],
      "metadata": {
        "id": "rRLzJ3Vp91uh"
      },
      "execution_count": null,
      "outputs": []
    },
    {
      "cell_type": "code",
      "source": [
        "z"
      ],
      "metadata": {
        "id": "K4nTSQHb6R3g"
      },
      "execution_count": null,
      "outputs": []
    },
    {
      "cell_type": "markdown",
      "source": [
        "comparing accuracies below."
      ],
      "metadata": {
        "id": "lmQ3rUiT8MQu"
      }
    },
    {
      "cell_type": "code",
      "source": [
        "distance = pow(px-x,2)+pow(py-y,2)+pow(pz-z,2)"
      ],
      "metadata": {
        "id": "RsBDMzNZ8OJk"
      },
      "execution_count": null,
      "outputs": []
    },
    {
      "cell_type": "code",
      "source": [
        "distance"
      ],
      "metadata": {
        "id": "7Ymw-wpI9mOI"
      },
      "execution_count": null,
      "outputs": []
    }
  ],
  "metadata": {
    "colab": {
      "provenance": [],
      "include_colab_link": true
    },
    "kernelspec": {
      "display_name": "Python 3",
      "name": "python3"
    },
    "language_info": {
      "name": "python"
    }
  },
  "nbformat": 4,
  "nbformat_minor": 0
}